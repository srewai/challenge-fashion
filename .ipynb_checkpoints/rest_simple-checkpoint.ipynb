{
 "cells": [
  {
   "cell_type": "markdown",
   "metadata": {
    "id": "MhoQ0WE77laV"
   },
   "source": [
    "##### Copyright 2020 The TensorFlow Authors."
   ]
  },
  {
   "cell_type": "code",
   "execution_count": 97,
   "metadata": {
    "cellView": "form",
    "execution": {
     "iopub.execute_input": "2021-12-04T10:29:25.985416Z",
     "iopub.status.busy": "2021-12-04T10:29:25.984806Z",
     "iopub.status.idle": "2021-12-04T10:29:25.987142Z",
     "shell.execute_reply": "2021-12-04T10:29:25.987491Z"
    },
    "id": "_ckMIh7O7s6D"
   },
   "outputs": [],
   "source": [
    "#@title Licensed under the Apache License, Version 2.0 (the \"License\");\n",
    "# you may not use this file except in compliance with the License.\n",
    "# You may obtain a copy of the License at\n",
    "#\n",
    "# https://www.apache.org/licenses/LICENSE-2.0\n",
    "#\n",
    "# Unless required by applicable law or agreed to in writing, software\n",
    "# distributed under the License is distributed on an \"AS IS\" BASIS,\n",
    "# WITHOUT WARRANTIES OR CONDITIONS OF ANY KIND, either express or implied.\n",
    "# See the License for the specific language governing permissions and\n",
    "# limitations under the License."
   ]
  },
  {
   "cell_type": "markdown",
   "metadata": {
    "id": "jYysdyb-CaWM"
   },
   "source": [
    "# Train and serve a TensorFlow model with TensorFlow Serving"
   ]
  },
  {
   "cell_type": "markdown",
   "metadata": {
    "id": "E6FwTNtl3S4v"
   },
   "source": [
    "Designed to run on local system with training on CPUs.\n",
    "\n"
   ]
  },
  {
   "cell_type": "markdown",
   "metadata": {
    "id": "FbVhjPpzn6BM"
   },
   "source": [
    "This guide trains a neural network model to classify [images of clothing, like sneakers and shirts](https://github.com/zalandoresearch/fashion-mnist), saves the trained model, and then serves it with [TensorFlow Serving](https://www.tensorflow.org/serving/). \n",
    "This guide uses [tf.keras](https://github.com/tensorflow/docs/blob/master/site/en/r1/guide/keras.ipynb), a high-level API to build and train models in TensorFlow."
   ]
  },
  {
   "cell_type": "code",
   "execution_count": 98,
   "metadata": {
    "execution": {
     "iopub.execute_input": "2021-12-04T10:29:25.994625Z",
     "iopub.status.busy": "2021-12-04T10:29:25.994056Z",
     "iopub.status.idle": "2021-12-04T10:29:25.995493Z",
     "shell.execute_reply": "2021-12-04T10:29:25.995845Z"
    },
    "id": "FWkuJabJSKGB"
   },
   "outputs": [],
   "source": [
    "import sys\n",
    "\n",
    "# Confirm that we're using Python 3\n",
    "assert sys.version_info.major == 3, 'Oops, not running Python 3. Use Runtime > Change runtime type'"
   ]
  },
  {
   "cell_type": "code",
   "execution_count": 99,
   "metadata": {
    "execution": {
     "iopub.execute_input": "2021-12-04T10:29:26.000919Z",
     "iopub.status.busy": "2021-12-04T10:29:26.000338Z",
     "iopub.status.idle": "2021-12-04T10:29:31.931333Z",
     "shell.execute_reply": "2021-12-04T10:29:31.931746Z"
    },
    "id": "dzLKpmZICaWN"
   },
   "outputs": [
    {
     "name": "stdout",
     "output_type": "stream",
     "text": [
      "TensorFlow version: 2.5.2\n"
     ]
    }
   ],
   "source": [
    "import tensorflow as tf\n",
    "from tensorflow import keras\n",
    "from sklearn.model_selection import train_test_split\n",
    "from keras.models import Sequential\n",
    "from keras.layers import Dense, Dropout, Flatten, BatchNormalization\n",
    "from keras.layers import Conv2D, MaxPooling2D\n",
    "from tensorflow.keras.callbacks import TensorBoard\n",
    "from keras.preprocessing.image import ImageDataGenerator\n",
    "\n",
    "# Helper libraries\n",
    "import numpy as np\n",
    "import matplotlib.pyplot as plt\n",
    "import os\n",
    "import subprocess\n",
    "import time\n",
    "\n",
    "print('TensorFlow version: {}'.format(tf.__version__))\n"
   ]
  },
  {
   "cell_type": "markdown",
   "metadata": {
    "id": "5jAk1ZXqTJqN"
   },
   "source": [
    "## Create your model"
   ]
  },
  {
   "cell_type": "markdown",
   "metadata": {
    "id": "yR0EdgrLCaWR"
   },
   "source": [
    "### Import the Fashion MNIST dataset\n",
    "\n",
    "This guide uses the [Fashion MNIST](https://github.com/zalandoresearch/fashion-mnist) dataset which contains 70,000 grayscale images in 10 categories. The images show individual articles of clothing at low resolution (28 by 28 pixels), as seen here:\n",
    "\n",
    "<table>\n",
    "  <tr><td>\n",
    "    <img src=\"https://tensorflow.org/images/fashion-mnist-sprite.png\"\n",
    "         alt=\"Fashion MNIST sprite\"  width=\"600\">\n",
    "  </td></tr>\n",
    "  <tr><td align=\"center\">\n",
    "    <b>Figure 1.</b> <a href=\"https://github.com/zalandoresearch/fashion-mnist\">Fashion-MNIST samples</a> (by Zalando, MIT License).<br/>&nbsp;\n",
    "  </td></tr>\n",
    "</table>\n",
    "\n",
    "Fashion MNIST is intended as a drop-in replacement for the classic [MNIST](http://yann.lecun.com/exdb/mnist/) dataset—often used as the \"Hello, World\" of machine learning programs for computer vision. You can access the Fashion MNIST directly from TensorFlow, just import and load the data.\n",
    "\n",
    "Note: Although these are really images, they are loaded as NumPy arrays and not binary image objects."
   ]
  },
  {
   "cell_type": "code",
   "execution_count": 100,
   "metadata": {
    "execution": {
     "iopub.execute_input": "2021-12-04T10:29:31.940085Z",
     "iopub.status.busy": "2021-12-04T10:29:31.939508Z",
     "iopub.status.idle": "2021-12-04T10:29:33.439285Z",
     "shell.execute_reply": "2021-12-04T10:29:33.438696Z"
    },
    "id": "7MqDQO0KCaWS"
   },
   "outputs": [],
   "source": [
    "fashion_mnist = keras.datasets.fashion_mnist\n",
    "(train_images, train_labels), (test_images, test_labels) = fashion_mnist.load_data()\n",
    "\n",
    "# splitting train data again into actual training and validation set for better results and ML understading \n",
    "X_train, X_val, y_train, y_val = train_test_split(train_images, train_labels, test_size=0.2, random_state=5)\n"
   ]
  },
  {
   "cell_type": "code",
   "execution_count": 101,
   "metadata": {
    "scrolled": true
   },
   "outputs": [
    {
     "name": "stdout",
     "output_type": "stream",
     "text": [
      "\n",
      "X_train.shape: (48000, 28, 28, 1), of float64\n",
      "X_val.shape: (12000, 28, 28, 1), of float64\n",
      "test_images.shape: (10000, 28, 28, 1), of float64\n"
     ]
    }
   ],
   "source": [
    "#scale the values to 0.0 to 1.0 for normalization\n",
    "X_train = X_train / 255.0\n",
    "X_val = X_val / 255.0\n",
    "test_images = test_images / 255.0\n",
    "\n",
    "\n",
    "# reshape for feeding into the model\n",
    "X_train = X_train.reshape(X_train.shape[0], 28, 28, 1)\n",
    "X_val = X_val.reshape(X_val.shape[0], 28, 28, 1)\n",
    "test_images = test_images.reshape(test_images.shape[0], 28, 28, 1)\n",
    "\n",
    "\n",
    "#sparse_categorical_crossentropy can be used as loss \n",
    "class_names = ['T-shirt/top', 'Trouser', 'Pullover', 'Dress', 'Coat',\n",
    "               'Sandal', 'Shirt', 'Sneaker', 'Bag', 'Ankle boot']\n",
    "\n",
    "print('\\nX_train.shape: {}, of {}'.format(X_train.shape, X_train.dtype))\n",
    "print('X_val.shape: {}, of {}'.format(X_val.shape, X_val.dtype))\n",
    "print('test_images.shape: {}, of {}'.format(test_images.shape, test_images.dtype))"
   ]
  },
  {
   "cell_type": "markdown",
   "metadata": {
    "id": "PDu7OX8Nf5PY"
   },
   "source": [
    "### Train and evaluate your model\n",
    "\n",
    "#### Model-1 uses simple 3 CNN layers for feature extraction and then flattened and fed into fully connected layer\n",
    "\n",
    "##### Model-1"
   ]
  },
  {
   "cell_type": "code",
   "execution_count": 102,
   "metadata": {},
   "outputs": [
    {
     "name": "stdout",
     "output_type": "stream",
     "text": [
      "Model: \"sequential\"\n",
      "_________________________________________________________________\n",
      "Layer (type)                 Output Shape              Param #   \n",
      "=================================================================\n",
      "conv2d (Conv2D)              (None, 26, 26, 32)        320       \n",
      "_________________________________________________________________\n",
      "max_pooling2d (MaxPooling2D) (None, 13, 13, 32)        0         \n",
      "_________________________________________________________________\n",
      "dropout (Dropout)            (None, 13, 13, 32)        0         \n",
      "_________________________________________________________________\n",
      "conv2d_1 (Conv2D)            (None, 11, 11, 64)        18496     \n",
      "_________________________________________________________________\n",
      "max_pooling2d_1 (MaxPooling2 (None, 5, 5, 64)          0         \n",
      "_________________________________________________________________\n",
      "dropout_1 (Dropout)          (None, 5, 5, 64)          0         \n",
      "_________________________________________________________________\n",
      "conv2d_2 (Conv2D)            (None, 3, 3, 128)         73856     \n",
      "_________________________________________________________________\n",
      "dropout_2 (Dropout)          (None, 3, 3, 128)         0         \n",
      "_________________________________________________________________\n",
      "flatten (Flatten)            (None, 1152)              0         \n",
      "_________________________________________________________________\n",
      "dense (Dense)                (None, 128)               147584    \n",
      "_________________________________________________________________\n",
      "dropout_3 (Dropout)          (None, 128)               0         \n",
      "_________________________________________________________________\n",
      "dense_1 (Dense)              (None, 10)                1290      \n",
      "=================================================================\n",
      "Total params: 241,546\n",
      "Trainable params: 241,546\n",
      "Non-trainable params: 0\n",
      "_________________________________________________________________\n"
     ]
    }
   ],
   "source": [
    "#input shape\n",
    "input_shape=(28,28,1)\n",
    "\n",
    "#layer 1\n",
    "model1 = Sequential()\n",
    "model1.add(Conv2D(32, kernel_size=(3, 3), activation='relu', input_shape=input_shape))\n",
    "model1.add(MaxPooling2D(pool_size=(2, 2)))\n",
    "model1.add(Dropout(0.2))\n",
    "\n",
    "#layer 2\n",
    "model1.add(Conv2D(64, kernel_size=(3, 3), activation='relu'))\n",
    "model1.add(MaxPooling2D(pool_size=(2, 2)))\n",
    "model1.add(Dropout(0.25))\n",
    "\n",
    "#layer 3\n",
    "model1.add(Conv2D(128, kernel_size=(3, 3), activation='relu'))\n",
    "model1.add(Dropout(0.4))\n",
    "\n",
    "model1.add(Flatten())\n",
    "\n",
    "#fed into fully connected layer\n",
    "model1.add(Dense(128, activation='relu'))\n",
    "model1.add(Dropout(0.3))\n",
    "model1.add(Dense(10, activation='softmax'))\n",
    "\n",
    "model1.summary()\n",
    "\n",
    "\n",
    "model1.compile(loss='sparse_categorical_crossentropy',\n",
    "              optimizer='adam',\n",
    "              metrics=['accuracy'])"
   ]
  },
  {
   "cell_type": "code",
   "execution_count": 104,
   "metadata": {},
   "outputs": [
    {
     "name": "stdout",
     "output_type": "stream",
     "text": [
      "Epoch 1/100\n",
      "188/188 [==============================] - 13s 44ms/step - loss: 0.8614 - accuracy: 0.6726 - val_loss: 0.5386 - val_accuracy: 0.7941\n",
      "Epoch 2/100\n",
      "188/188 [==============================] - 8s 44ms/step - loss: 0.5301 - accuracy: 0.7977 - val_loss: 0.4522 - val_accuracy: 0.8309\n",
      "Epoch 3/100\n",
      "188/188 [==============================] - 8s 44ms/step - loss: 0.4581 - accuracy: 0.8290 - val_loss: 0.3843 - val_accuracy: 0.8620\n",
      "Epoch 4/100\n",
      "188/188 [==============================] - 8s 44ms/step - loss: 0.4104 - accuracy: 0.8489 - val_loss: 0.3528 - val_accuracy: 0.8712\n",
      "Epoch 5/100\n",
      "188/188 [==============================] - 8s 44ms/step - loss: 0.3785 - accuracy: 0.8610 - val_loss: 0.3373 - val_accuracy: 0.8788\n",
      "Epoch 6/100\n",
      "188/188 [==============================] - 9s 45ms/step - loss: 0.3548 - accuracy: 0.8710 - val_loss: 0.3230 - val_accuracy: 0.8821\n",
      "Epoch 7/100\n",
      "188/188 [==============================] - 9s 47ms/step - loss: 0.3412 - accuracy: 0.8738 - val_loss: 0.3025 - val_accuracy: 0.8907\n",
      "Epoch 8/100\n",
      "188/188 [==============================] - 8s 44ms/step - loss: 0.3288 - accuracy: 0.8795 - val_loss: 0.2899 - val_accuracy: 0.8963\n",
      "Epoch 9/100\n",
      "188/188 [==============================] - 8s 43ms/step - loss: 0.3110 - accuracy: 0.8845 - val_loss: 0.2776 - val_accuracy: 0.8991\n",
      "Epoch 10/100\n",
      "188/188 [==============================] - 8s 44ms/step - loss: 0.3012 - accuracy: 0.8890 - val_loss: 0.2715 - val_accuracy: 0.9018\n",
      "Epoch 11/100\n",
      "188/188 [==============================] - 8s 45ms/step - loss: 0.2897 - accuracy: 0.8941 - val_loss: 0.2598 - val_accuracy: 0.9053\n",
      "Epoch 12/100\n",
      "188/188 [==============================] - 8s 44ms/step - loss: 0.2822 - accuracy: 0.8968 - val_loss: 0.2574 - val_accuracy: 0.9061\n",
      "Epoch 13/100\n",
      "188/188 [==============================] - 8s 44ms/step - loss: 0.2766 - accuracy: 0.8991 - val_loss: 0.2503 - val_accuracy: 0.9088\n",
      "Epoch 14/100\n",
      "188/188 [==============================] - 8s 45ms/step - loss: 0.2705 - accuracy: 0.9000 - val_loss: 0.2447 - val_accuracy: 0.9102\n",
      "Epoch 15/100\n",
      "188/188 [==============================] - 9s 45ms/step - loss: 0.2652 - accuracy: 0.9018 - val_loss: 0.2450 - val_accuracy: 0.9102\n",
      "Epoch 16/100\n",
      "188/188 [==============================] - 9s 46ms/step - loss: 0.2623 - accuracy: 0.9028 - val_loss: 0.2445 - val_accuracy: 0.9107\n",
      "Epoch 17/100\n",
      "188/188 [==============================] - 9s 48ms/step - loss: 0.2574 - accuracy: 0.9047 - val_loss: 0.2448 - val_accuracy: 0.9087\n",
      "Epoch 18/100\n",
      "188/188 [==============================] - 9s 45ms/step - loss: 0.2490 - accuracy: 0.9070 - val_loss: 0.2388 - val_accuracy: 0.9119\n",
      "Epoch 19/100\n",
      "188/188 [==============================] - 9s 45ms/step - loss: 0.2456 - accuracy: 0.9078 - val_loss: 0.2360 - val_accuracy: 0.9123\n",
      "Epoch 20/100\n",
      "188/188 [==============================] - 9s 46ms/step - loss: 0.2426 - accuracy: 0.9088 - val_loss: 0.2385 - val_accuracy: 0.9127\n",
      "Epoch 21/100\n",
      "188/188 [==============================] - 8s 44ms/step - loss: 0.2385 - accuracy: 0.9106 - val_loss: 0.2358 - val_accuracy: 0.9151\n",
      "Epoch 22/100\n",
      "188/188 [==============================] - 9s 46ms/step - loss: 0.2351 - accuracy: 0.9130 - val_loss: 0.2280 - val_accuracy: 0.9156\n",
      "Epoch 23/100\n",
      "188/188 [==============================] - 9s 46ms/step - loss: 0.2301 - accuracy: 0.9136 - val_loss: 0.2367 - val_accuracy: 0.9146\n",
      "Epoch 24/100\n",
      "188/188 [==============================] - 8s 43ms/step - loss: 0.2267 - accuracy: 0.9156 - val_loss: 0.2385 - val_accuracy: 0.9108\n",
      "Epoch 25/100\n",
      "188/188 [==============================] - 8s 43ms/step - loss: 0.2256 - accuracy: 0.9149 - val_loss: 0.2235 - val_accuracy: 0.9192\n",
      "Epoch 26/100\n",
      "188/188 [==============================] - 8s 43ms/step - loss: 0.2201 - accuracy: 0.9176 - val_loss: 0.2222 - val_accuracy: 0.9180\n",
      "Epoch 27/100\n",
      "188/188 [==============================] - 8s 43ms/step - loss: 0.2211 - accuracy: 0.9161 - val_loss: 0.2211 - val_accuracy: 0.9212\n",
      "Epoch 28/100\n",
      "188/188 [==============================] - 8s 43ms/step - loss: 0.2178 - accuracy: 0.9176 - val_loss: 0.2209 - val_accuracy: 0.9209\n",
      "Epoch 29/100\n",
      "188/188 [==============================] - 8s 44ms/step - loss: 0.2144 - accuracy: 0.9199 - val_loss: 0.2187 - val_accuracy: 0.9206\n",
      "Epoch 30/100\n",
      "188/188 [==============================] - 9s 46ms/step - loss: 0.2122 - accuracy: 0.9211 - val_loss: 0.2227 - val_accuracy: 0.9212\n",
      "Epoch 31/100\n",
      "188/188 [==============================] - 9s 46ms/step - loss: 0.2132 - accuracy: 0.9195 - val_loss: 0.2178 - val_accuracy: 0.9227\n",
      "Epoch 32/100\n",
      "188/188 [==============================] - 8s 44ms/step - loss: 0.2091 - accuracy: 0.9209 - val_loss: 0.2180 - val_accuracy: 0.9216\n",
      "Epoch 33/100\n",
      "188/188 [==============================] - 8s 44ms/step - loss: 0.2066 - accuracy: 0.9231 - val_loss: 0.2187 - val_accuracy: 0.9208\n",
      "Epoch 34/100\n",
      "188/188 [==============================] - 8s 44ms/step - loss: 0.2060 - accuracy: 0.9215 - val_loss: 0.2220 - val_accuracy: 0.9197\n",
      "Epoch 35/100\n",
      "188/188 [==============================] - 8s 44ms/step - loss: 0.2011 - accuracy: 0.9241 - val_loss: 0.2219 - val_accuracy: 0.9206\n",
      "Epoch 36/100\n",
      "188/188 [==============================] - 9s 46ms/step - loss: 0.2015 - accuracy: 0.9235 - val_loss: 0.2180 - val_accuracy: 0.9212\n",
      "Epoch 37/100\n",
      "188/188 [==============================] - 8s 44ms/step - loss: 0.1941 - accuracy: 0.9270 - val_loss: 0.2195 - val_accuracy: 0.9211\n",
      "Epoch 38/100\n",
      "188/188 [==============================] - 8s 44ms/step - loss: 0.1970 - accuracy: 0.9258 - val_loss: 0.2190 - val_accuracy: 0.9225\n",
      "Epoch 39/100\n",
      "188/188 [==============================] - 8s 45ms/step - loss: 0.1952 - accuracy: 0.9263 - val_loss: 0.2199 - val_accuracy: 0.9220\n",
      "Epoch 40/100\n",
      "188/188 [==============================] - 8s 44ms/step - loss: 0.1944 - accuracy: 0.9262 - val_loss: 0.2182 - val_accuracy: 0.9227\n",
      "Epoch 41/100\n",
      "188/188 [==============================] - 8s 43ms/step - loss: 0.1908 - accuracy: 0.9292 - val_loss: 0.2186 - val_accuracy: 0.9202\n",
      "Epoch 42/100\n",
      "188/188 [==============================] - 8s 43ms/step - loss: 0.1875 - accuracy: 0.9291 - val_loss: 0.2114 - val_accuracy: 0.9266\n",
      "Epoch 43/100\n",
      "188/188 [==============================] - 8s 44ms/step - loss: 0.1889 - accuracy: 0.9283 - val_loss: 0.2179 - val_accuracy: 0.9237\n",
      "Epoch 44/100\n",
      "188/188 [==============================] - 8s 43ms/step - loss: 0.1843 - accuracy: 0.9304 - val_loss: 0.2158 - val_accuracy: 0.9220\n",
      "Epoch 45/100\n",
      "188/188 [==============================] - 8s 43ms/step - loss: 0.1844 - accuracy: 0.9298 - val_loss: 0.2152 - val_accuracy: 0.9237\n",
      "Epoch 46/100\n",
      "188/188 [==============================] - 8s 43ms/step - loss: 0.1832 - accuracy: 0.9306 - val_loss: 0.2170 - val_accuracy: 0.9235\n",
      "Epoch 47/100\n",
      "188/188 [==============================] - 8s 43ms/step - loss: 0.1851 - accuracy: 0.9293 - val_loss: 0.2142 - val_accuracy: 0.9247\n",
      "Epoch 48/100\n",
      "188/188 [==============================] - 8s 43ms/step - loss: 0.1802 - accuracy: 0.9319 - val_loss: 0.2164 - val_accuracy: 0.9248\n",
      "Epoch 49/100\n",
      "188/188 [==============================] - 8s 43ms/step - loss: 0.1782 - accuracy: 0.9334 - val_loss: 0.2318 - val_accuracy: 0.9171\n",
      "Epoch 50/100\n",
      "188/188 [==============================] - 8s 44ms/step - loss: 0.1799 - accuracy: 0.9305 - val_loss: 0.2191 - val_accuracy: 0.9228\n",
      "Epoch 51/100\n",
      "188/188 [==============================] - 8s 43ms/step - loss: 0.1791 - accuracy: 0.9299 - val_loss: 0.2092 - val_accuracy: 0.9269\n",
      "Epoch 52/100\n",
      "188/188 [==============================] - 8s 43ms/step - loss: 0.1760 - accuracy: 0.9326 - val_loss: 0.2125 - val_accuracy: 0.9266\n",
      "Epoch 53/100\n",
      "188/188 [==============================] - 8s 44ms/step - loss: 0.1777 - accuracy: 0.9327 - val_loss: 0.2167 - val_accuracy: 0.9236\n",
      "Epoch 54/100\n",
      "188/188 [==============================] - 8s 43ms/step - loss: 0.1721 - accuracy: 0.9355 - val_loss: 0.2108 - val_accuracy: 0.9269\n",
      "Epoch 55/100\n",
      "188/188 [==============================] - 8s 43ms/step - loss: 0.1711 - accuracy: 0.9347 - val_loss: 0.2089 - val_accuracy: 0.9272\n",
      "Epoch 56/100\n",
      "188/188 [==============================] - 8s 44ms/step - loss: 0.1727 - accuracy: 0.9343 - val_loss: 0.2195 - val_accuracy: 0.9256\n",
      "Epoch 57/100\n"
     ]
    },
    {
     "name": "stdout",
     "output_type": "stream",
     "text": [
      "188/188 [==============================] - 8s 44ms/step - loss: 0.1715 - accuracy: 0.9343 - val_loss: 0.2161 - val_accuracy: 0.9271\n",
      "Epoch 58/100\n",
      "188/188 [==============================] - 8s 43ms/step - loss: 0.1714 - accuracy: 0.9341 - val_loss: 0.2195 - val_accuracy: 0.9255\n",
      "Epoch 59/100\n",
      "188/188 [==============================] - 8s 44ms/step - loss: 0.1679 - accuracy: 0.9364 - val_loss: 0.2232 - val_accuracy: 0.9243\n",
      "Epoch 60/100\n",
      "188/188 [==============================] - 8s 44ms/step - loss: 0.1732 - accuracy: 0.9340 - val_loss: 0.2128 - val_accuracy: 0.9243\n",
      "Epoch 61/100\n",
      "188/188 [==============================] - 8s 45ms/step - loss: 0.1706 - accuracy: 0.9343 - val_loss: 0.2143 - val_accuracy: 0.9261\n",
      "Epoch 62/100\n",
      "188/188 [==============================] - 8s 44ms/step - loss: 0.1665 - accuracy: 0.9359 - val_loss: 0.2254 - val_accuracy: 0.9215\n",
      "Epoch 63/100\n",
      "188/188 [==============================] - 8s 44ms/step - loss: 0.1716 - accuracy: 0.9342 - val_loss: 0.2168 - val_accuracy: 0.9258\n",
      "Epoch 64/100\n",
      "188/188 [==============================] - 8s 44ms/step - loss: 0.1662 - accuracy: 0.9382 - val_loss: 0.2159 - val_accuracy: 0.9257\n",
      "Epoch 65/100\n",
      "188/188 [==============================] - 8s 43ms/step - loss: 0.1644 - accuracy: 0.9382 - val_loss: 0.2137 - val_accuracy: 0.9281\n",
      "Epoch 66/100\n",
      "188/188 [==============================] - 8s 43ms/step - loss: 0.1677 - accuracy: 0.9370 - val_loss: 0.2204 - val_accuracy: 0.9241\n",
      "Epoch 67/100\n",
      "188/188 [==============================] - 8s 43ms/step - loss: 0.1662 - accuracy: 0.9377 - val_loss: 0.2157 - val_accuracy: 0.9254\n",
      "Epoch 68/100\n",
      "188/188 [==============================] - 8s 43ms/step - loss: 0.1589 - accuracy: 0.9392 - val_loss: 0.2191 - val_accuracy: 0.9260\n",
      "Epoch 69/100\n",
      "188/188 [==============================] - 8s 44ms/step - loss: 0.1640 - accuracy: 0.9373 - val_loss: 0.2251 - val_accuracy: 0.9238\n",
      "Epoch 70/100\n",
      "188/188 [==============================] - 8s 44ms/step - loss: 0.1601 - accuracy: 0.9402 - val_loss: 0.2146 - val_accuracy: 0.9260\n",
      "Epoch 71/100\n",
      "188/188 [==============================] - 8s 43ms/step - loss: 0.1568 - accuracy: 0.9400 - val_loss: 0.2200 - val_accuracy: 0.9265\n",
      "Epoch 72/100\n",
      "188/188 [==============================] - 8s 43ms/step - loss: 0.1575 - accuracy: 0.9399 - val_loss: 0.2190 - val_accuracy: 0.9239\n",
      "Epoch 73/100\n",
      "188/188 [==============================] - 8s 43ms/step - loss: 0.1594 - accuracy: 0.9382 - val_loss: 0.2132 - val_accuracy: 0.9276\n",
      "Epoch 74/100\n",
      "188/188 [==============================] - 8s 43ms/step - loss: 0.1589 - accuracy: 0.9394 - val_loss: 0.2106 - val_accuracy: 0.9287\n",
      "Epoch 75/100\n",
      "188/188 [==============================] - 8s 45ms/step - loss: 0.1608 - accuracy: 0.9378 - val_loss: 0.2152 - val_accuracy: 0.9283\n",
      "Epoch 76/100\n",
      "188/188 [==============================] - 8s 43ms/step - loss: 0.1567 - accuracy: 0.9400 - val_loss: 0.2198 - val_accuracy: 0.9265\n",
      "Epoch 77/100\n",
      "188/188 [==============================] - 8s 43ms/step - loss: 0.1599 - accuracy: 0.9382 - val_loss: 0.2109 - val_accuracy: 0.9277\n",
      "Epoch 78/100\n",
      "188/188 [==============================] - 8s 43ms/step - loss: 0.1584 - accuracy: 0.9401 - val_loss: 0.2150 - val_accuracy: 0.9282\n",
      "Epoch 79/100\n",
      "188/188 [==============================] - 8s 43ms/step - loss: 0.1571 - accuracy: 0.9410 - val_loss: 0.2213 - val_accuracy: 0.9267\n",
      "Epoch 80/100\n",
      "188/188 [==============================] - 8s 44ms/step - loss: 0.1563 - accuracy: 0.9413 - val_loss: 0.2132 - val_accuracy: 0.9290\n",
      "Epoch 81/100\n",
      "188/188 [==============================] - 8s 43ms/step - loss: 0.1572 - accuracy: 0.9401 - val_loss: 0.2257 - val_accuracy: 0.9257\n",
      "Epoch 82/100\n",
      "188/188 [==============================] - 8s 43ms/step - loss: 0.1571 - accuracy: 0.9395 - val_loss: 0.2131 - val_accuracy: 0.9284\n",
      "Epoch 83/100\n",
      "188/188 [==============================] - 8s 43ms/step - loss: 0.1573 - accuracy: 0.9398 - val_loss: 0.2171 - val_accuracy: 0.9252\n",
      "Epoch 84/100\n",
      "188/188 [==============================] - 8s 43ms/step - loss: 0.1546 - accuracy: 0.9427 - val_loss: 0.2103 - val_accuracy: 0.9295\n",
      "Epoch 85/100\n",
      "188/188 [==============================] - 8s 43ms/step - loss: 0.1538 - accuracy: 0.9415 - val_loss: 0.2097 - val_accuracy: 0.9307\n",
      "Epoch 86/100\n",
      "188/188 [==============================] - 8s 44ms/step - loss: 0.1496 - accuracy: 0.9425 - val_loss: 0.2219 - val_accuracy: 0.9278\n",
      "Epoch 87/100\n",
      "188/188 [==============================] - 8s 44ms/step - loss: 0.1541 - accuracy: 0.9415 - val_loss: 0.2229 - val_accuracy: 0.9243\n",
      "Epoch 88/100\n",
      "188/188 [==============================] - 8s 43ms/step - loss: 0.1501 - accuracy: 0.9432 - val_loss: 0.2159 - val_accuracy: 0.9280\n",
      "Epoch 89/100\n",
      "188/188 [==============================] - 8s 43ms/step - loss: 0.1529 - accuracy: 0.9402 - val_loss: 0.2198 - val_accuracy: 0.9264\n",
      "Epoch 90/100\n",
      "188/188 [==============================] - 8s 43ms/step - loss: 0.1505 - accuracy: 0.9428 - val_loss: 0.2194 - val_accuracy: 0.9252\n",
      "Epoch 91/100\n",
      "188/188 [==============================] - 8s 44ms/step - loss: 0.1500 - accuracy: 0.9419 - val_loss: 0.2248 - val_accuracy: 0.9263\n",
      "Epoch 92/100\n",
      "188/188 [==============================] - 8s 43ms/step - loss: 0.1474 - accuracy: 0.9439 - val_loss: 0.2210 - val_accuracy: 0.9276\n",
      "Epoch 93/100\n",
      "188/188 [==============================] - 8s 43ms/step - loss: 0.1450 - accuracy: 0.9429 - val_loss: 0.2215 - val_accuracy: 0.9277\n",
      "Epoch 94/100\n",
      "188/188 [==============================] - 8s 43ms/step - loss: 0.1454 - accuracy: 0.9440 - val_loss: 0.2241 - val_accuracy: 0.9273\n",
      "Epoch 95/100\n",
      "188/188 [==============================] - 8s 43ms/step - loss: 0.1478 - accuracy: 0.9427 - val_loss: 0.2167 - val_accuracy: 0.9272\n",
      "Epoch 96/100\n",
      "188/188 [==============================] - 8s 43ms/step - loss: 0.1494 - accuracy: 0.9423 - val_loss: 0.2193 - val_accuracy: 0.9265\n",
      "Epoch 97/100\n",
      "188/188 [==============================] - 8s 44ms/step - loss: 0.1455 - accuracy: 0.9455 - val_loss: 0.2209 - val_accuracy: 0.9265\n",
      "Epoch 98/100\n",
      "188/188 [==============================] - 8s 43ms/step - loss: 0.1450 - accuracy: 0.9441 - val_loss: 0.2159 - val_accuracy: 0.9293\n",
      "Epoch 99/100\n",
      "188/188 [==============================] - 8s 43ms/step - loss: 0.1437 - accuracy: 0.9444 - val_loss: 0.2269 - val_accuracy: 0.9265\n",
      "Epoch 100/100\n",
      "188/188 [==============================] - 8s 44ms/step - loss: 0.1505 - accuracy: 0.9425 - val_loss: 0.2237 - val_accuracy: 0.9277\n"
     ]
    }
   ],
   "source": [
    "#this is used for logging purpose\n",
    "\n",
    "MODEL_NAME = \"MNIST-FASHION-1-{}\".format(int(time.time()))\n",
    "\n",
    "#respective model loggings can be found in logs folder with model name\n",
    "tensorboard = TensorBoard(log_dir='logs/{}'.format(MODEL_NAME))\n",
    "\n",
    "#fit the model\n",
    "model1_fit = model1.fit(X_train\n",
    "                        ,y_train\n",
    "                        ,batch_size=256\n",
    "                        ,epochs=100\n",
    "                        ,verbose=1\n",
    "                        ,validation_data=(X_val, y_val)\n",
    "                        ,callbacks = [tensorboard])"
   ]
  },
  {
   "cell_type": "code",
   "execution_count": 105,
   "metadata": {},
   "outputs": [
    {
     "name": "stdout",
     "output_type": "stream",
     "text": [
      "313/313 [==============================] - 1s 2ms/step - loss: 0.2353 - accuracy: 0.9258\n",
      "\n",
      "Test accuracy: 0.9258000254631042\n"
     ]
    }
   ],
   "source": [
    "test_loss, test_acc = model1.evaluate(test_images, test_labels)\n",
    "print('\\nTest accuracy: {}'.format(test_acc))"
   ]
  },
  {
   "cell_type": "markdown",
   "metadata": {
    "id": "PDu7OX8Nf5PY"
   },
   "source": [
    "####  We will use similar architecture of Model-1 for Model-2 as well with added batchnormalization along with data augumentation technique and one extra layer of CNN to see if that makes the model perform better.\n",
    "\n",
    "##### Model-2"
   ]
  },
  {
   "cell_type": "code",
   "execution_count": 106,
   "metadata": {},
   "outputs": [],
   "source": [
    "#layer 1\n",
    "model2 = Sequential()\n",
    "model2.add(Conv2D(32, kernel_size=(3, 3), activation='relu', input_shape=input_shape))\n",
    "model2.add(BatchNormalization())\n",
    "\n",
    "#layer 2\n",
    "model2.add(Conv2D(32, kernel_size=(3, 3), activation='relu'))\n",
    "model2.add(BatchNormalization())\n",
    "model2.add(MaxPooling2D(pool_size=(2, 2)))\n",
    "model2.add(Dropout(0.25))\n",
    "\n",
    "#layer 3\n",
    "model2.add(Conv2D(64, kernel_size=(3, 3), activation='relu'))\n",
    "model2.add(BatchNormalization())\n",
    "model2.add(Dropout(0.25))\n",
    "\n",
    "#layer 4\n",
    "model2.add(Conv2D(128, kernel_size=(3, 3), activation='relu'))\n",
    "model2.add(BatchNormalization())\n",
    "model2.add(MaxPooling2D(pool_size=(2, 2)))\n",
    "model2.add(Dropout(0.25))\n",
    "\n",
    "model2.add(Flatten())\n",
    "\n",
    "#fed to dense layer\n",
    "model2.add(Dense(512, activation='relu'))\n",
    "model2.add(BatchNormalization())\n",
    "model2.add(Dropout(0.5))\n",
    "\n",
    "model2.add(Dense(128, activation='relu'))\n",
    "model2.add(BatchNormalization())\n",
    "model2.add(Dropout(0.5))\n",
    "\n",
    "model2.add(Dense(10, activation='softmax'))\n",
    "\n",
    "model2.compile(loss='sparse_categorical_crossentropy',\n",
    "              optimizer='adam',\n",
    "              metrics=['accuracy'])"
   ]
  },
  {
   "cell_type": "code",
   "execution_count": 107,
   "metadata": {},
   "outputs": [
    {
     "name": "stdout",
     "output_type": "stream",
     "text": [
      "Model: \"sequential_1\"\n",
      "_________________________________________________________________\n",
      "Layer (type)                 Output Shape              Param #   \n",
      "=================================================================\n",
      "conv2d_3 (Conv2D)            (None, 26, 26, 32)        320       \n",
      "_________________________________________________________________\n",
      "batch_normalization (BatchNo (None, 26, 26, 32)        128       \n",
      "_________________________________________________________________\n",
      "conv2d_4 (Conv2D)            (None, 24, 24, 32)        9248      \n",
      "_________________________________________________________________\n",
      "batch_normalization_1 (Batch (None, 24, 24, 32)        128       \n",
      "_________________________________________________________________\n",
      "max_pooling2d_2 (MaxPooling2 (None, 12, 12, 32)        0         \n",
      "_________________________________________________________________\n",
      "dropout_4 (Dropout)          (None, 12, 12, 32)        0         \n",
      "_________________________________________________________________\n",
      "conv2d_5 (Conv2D)            (None, 10, 10, 64)        18496     \n",
      "_________________________________________________________________\n",
      "batch_normalization_2 (Batch (None, 10, 10, 64)        256       \n",
      "_________________________________________________________________\n",
      "dropout_5 (Dropout)          (None, 10, 10, 64)        0         \n",
      "_________________________________________________________________\n",
      "conv2d_6 (Conv2D)            (None, 8, 8, 128)         73856     \n",
      "_________________________________________________________________\n",
      "batch_normalization_3 (Batch (None, 8, 8, 128)         512       \n",
      "_________________________________________________________________\n",
      "max_pooling2d_3 (MaxPooling2 (None, 4, 4, 128)         0         \n",
      "_________________________________________________________________\n",
      "dropout_6 (Dropout)          (None, 4, 4, 128)         0         \n",
      "_________________________________________________________________\n",
      "flatten_1 (Flatten)          (None, 2048)              0         \n",
      "_________________________________________________________________\n",
      "dense_2 (Dense)              (None, 512)               1049088   \n",
      "_________________________________________________________________\n",
      "batch_normalization_4 (Batch (None, 512)               2048      \n",
      "_________________________________________________________________\n",
      "dropout_7 (Dropout)          (None, 512)               0         \n",
      "_________________________________________________________________\n",
      "dense_3 (Dense)              (None, 128)               65664     \n",
      "_________________________________________________________________\n",
      "batch_normalization_5 (Batch (None, 128)               512       \n",
      "_________________________________________________________________\n",
      "dropout_8 (Dropout)          (None, 128)               0         \n",
      "_________________________________________________________________\n",
      "dense_4 (Dense)              (None, 10)                1290      \n",
      "=================================================================\n",
      "Total params: 1,221,546\n",
      "Trainable params: 1,219,754\n",
      "Non-trainable params: 1,792\n",
      "_________________________________________________________________\n"
     ]
    }
   ],
   "source": [
    "model2.summary()"
   ]
  },
  {
   "cell_type": "markdown",
   "metadata": {},
   "source": [
    "#### In the model 2 we will use data augumentation technique as below"
   ]
  },
  {
   "cell_type": "code",
   "execution_count": 109,
   "metadata": {},
   "outputs": [],
   "source": [
    "#generating images with the below values\n",
    "\n",
    "images = ImageDataGenerator(rotation_range=8\n",
    "                         , width_shift_range=0.08\n",
    "                         , shear_range=0.3\n",
    "                         , height_shift_range=0.08\n",
    "                         , zoom_range=0.08)\n",
    "\n",
    "#train images here\n",
    "train_batch = images.flow(X_train, y_train, batch_size=256)\n",
    "\n",
    "#validation images here\n",
    "val_batch = images.flow(X_val, y_val, batch_size=256)"
   ]
  },
  {
   "cell_type": "code",
   "execution_count": 110,
   "metadata": {},
   "outputs": [
    {
     "name": "stderr",
     "output_type": "stream",
     "text": [
      "/lhome/srauniy/challenge-fashion/fashion-classification/lib/python3.6/site-packages/keras/engine/training.py:1915: UserWarning: `Model.fit_generator` is deprecated and will be removed in a future version. Please use `Model.fit`, which supports generators.\n",
      "  warnings.warn('`Model.fit_generator` is deprecated and '\n"
     ]
    },
    {
     "name": "stdout",
     "output_type": "stream",
     "text": [
      "Epoch 1/100\n",
      "187/187 [==============================] - 38s 181ms/step - loss: 1.2850 - accuracy: 0.5843 - val_loss: 3.5530 - val_accuracy: 0.1244\n",
      "Epoch 2/100\n",
      "187/187 [==============================] - 33s 176ms/step - loss: 0.6221 - accuracy: 0.7671 - val_loss: 2.8341 - val_accuracy: 0.3068\n",
      "Epoch 3/100\n",
      "187/187 [==============================] - 34s 182ms/step - loss: 0.5171 - accuracy: 0.8085 - val_loss: 1.0292 - val_accuracy: 0.6516\n",
      "Epoch 4/100\n",
      "187/187 [==============================] - 33s 175ms/step - loss: 0.4578 - accuracy: 0.8301 - val_loss: 0.4071 - val_accuracy: 0.8438\n",
      "Epoch 5/100\n",
      "187/187 [==============================] - 33s 176ms/step - loss: 0.4238 - accuracy: 0.8419 - val_loss: 0.4052 - val_accuracy: 0.8463\n",
      "Epoch 6/100\n",
      "187/187 [==============================] - 33s 174ms/step - loss: 0.4046 - accuracy: 0.8542 - val_loss: 0.3644 - val_accuracy: 0.8664\n",
      "Epoch 7/100\n",
      "187/187 [==============================] - 33s 174ms/step - loss: 0.3806 - accuracy: 0.8611 - val_loss: 0.3190 - val_accuracy: 0.8847\n",
      "Epoch 8/100\n",
      "187/187 [==============================] - 33s 174ms/step - loss: 0.3712 - accuracy: 0.8660 - val_loss: 0.4139 - val_accuracy: 0.8556\n",
      "Epoch 9/100\n",
      "187/187 [==============================] - 33s 174ms/step - loss: 0.3583 - accuracy: 0.8703 - val_loss: 0.3239 - val_accuracy: 0.8801\n",
      "Epoch 10/100\n",
      "187/187 [==============================] - 33s 174ms/step - loss: 0.3434 - accuracy: 0.8764 - val_loss: 0.3140 - val_accuracy: 0.8816\n",
      "Epoch 11/100\n",
      "187/187 [==============================] - 33s 174ms/step - loss: 0.3349 - accuracy: 0.8789 - val_loss: 0.3014 - val_accuracy: 0.8906\n",
      "Epoch 12/100\n",
      "187/187 [==============================] - 33s 174ms/step - loss: 0.3304 - accuracy: 0.8793 - val_loss: 0.2968 - val_accuracy: 0.8915\n",
      "Epoch 13/100\n",
      "187/187 [==============================] - 33s 173ms/step - loss: 0.3142 - accuracy: 0.8839 - val_loss: 0.3086 - val_accuracy: 0.8867\n",
      "Epoch 14/100\n",
      "187/187 [==============================] - 33s 173ms/step - loss: 0.3092 - accuracy: 0.8886 - val_loss: 0.2674 - val_accuracy: 0.9039\n",
      "Epoch 15/100\n",
      "187/187 [==============================] - 33s 175ms/step - loss: 0.3068 - accuracy: 0.8868 - val_loss: 0.2700 - val_accuracy: 0.8985\n",
      "Epoch 16/100\n",
      "187/187 [==============================] - 33s 177ms/step - loss: 0.3033 - accuracy: 0.8876 - val_loss: 0.2993 - val_accuracy: 0.8904\n",
      "Epoch 17/100\n",
      "187/187 [==============================] - 33s 173ms/step - loss: 0.2987 - accuracy: 0.8907 - val_loss: 0.2970 - val_accuracy: 0.8903\n",
      "Epoch 18/100\n",
      "187/187 [==============================] - 33s 174ms/step - loss: 0.2957 - accuracy: 0.8911 - val_loss: 0.2744 - val_accuracy: 0.9004\n",
      "Epoch 19/100\n",
      "187/187 [==============================] - 33s 174ms/step - loss: 0.2907 - accuracy: 0.8937 - val_loss: 0.2931 - val_accuracy: 0.8935\n",
      "Epoch 20/100\n",
      "187/187 [==============================] - 33s 174ms/step - loss: 0.2870 - accuracy: 0.8963 - val_loss: 0.2577 - val_accuracy: 0.9071\n",
      "Epoch 21/100\n",
      "187/187 [==============================] - 33s 175ms/step - loss: 0.2820 - accuracy: 0.8965 - val_loss: 0.2464 - val_accuracy: 0.9078\n",
      "Epoch 22/100\n",
      "187/187 [==============================] - 33s 174ms/step - loss: 0.2757 - accuracy: 0.9003 - val_loss: 0.2655 - val_accuracy: 0.9027\n",
      "Epoch 23/100\n",
      "187/187 [==============================] - 33s 174ms/step - loss: 0.2784 - accuracy: 0.8993 - val_loss: 0.2779 - val_accuracy: 0.8960\n",
      "Epoch 24/100\n",
      "187/187 [==============================] - 33s 175ms/step - loss: 0.2688 - accuracy: 0.9038 - val_loss: 0.2558 - val_accuracy: 0.9068\n",
      "Epoch 25/100\n",
      "187/187 [==============================] - 33s 176ms/step - loss: 0.2707 - accuracy: 0.8999 - val_loss: 0.2564 - val_accuracy: 0.9075\n",
      "Epoch 26/100\n",
      "187/187 [==============================] - 33s 175ms/step - loss: 0.2707 - accuracy: 0.9025 - val_loss: 0.2560 - val_accuracy: 0.9060\n",
      "Epoch 27/100\n",
      "187/187 [==============================] - 33s 174ms/step - loss: 0.2600 - accuracy: 0.9049 - val_loss: 0.2538 - val_accuracy: 0.9068\n",
      "Epoch 28/100\n",
      "187/187 [==============================] - 33s 176ms/step - loss: 0.2593 - accuracy: 0.9073 - val_loss: 0.2381 - val_accuracy: 0.9147\n",
      "Epoch 29/100\n",
      "187/187 [==============================] - 33s 174ms/step - loss: 0.2601 - accuracy: 0.9063 - val_loss: 0.2376 - val_accuracy: 0.9106\n",
      "Epoch 30/100\n",
      "187/187 [==============================] - 33s 178ms/step - loss: 0.2556 - accuracy: 0.9074 - val_loss: 0.2854 - val_accuracy: 0.9012\n",
      "Epoch 31/100\n",
      "187/187 [==============================] - 34s 181ms/step - loss: 0.2505 - accuracy: 0.9081 - val_loss: 0.2443 - val_accuracy: 0.9090\n",
      "Epoch 32/100\n",
      "187/187 [==============================] - 33s 178ms/step - loss: 0.2516 - accuracy: 0.9092 - val_loss: 0.2319 - val_accuracy: 0.9147\n",
      "Epoch 33/100\n",
      "187/187 [==============================] - 33s 177ms/step - loss: 0.2574 - accuracy: 0.9057 - val_loss: 0.2659 - val_accuracy: 0.9017\n",
      "Epoch 34/100\n",
      "187/187 [==============================] - 33s 178ms/step - loss: 0.2456 - accuracy: 0.9103 - val_loss: 0.2286 - val_accuracy: 0.9160\n",
      "Epoch 35/100\n",
      "187/187 [==============================] - 33s 178ms/step - loss: 0.2451 - accuracy: 0.9118 - val_loss: 0.2219 - val_accuracy: 0.9164\n",
      "Epoch 36/100\n",
      "187/187 [==============================] - 33s 176ms/step - loss: 0.2409 - accuracy: 0.9131 - val_loss: 0.2392 - val_accuracy: 0.9166\n",
      "Epoch 37/100\n",
      "187/187 [==============================] - 33s 175ms/step - loss: 0.2371 - accuracy: 0.9141 - val_loss: 0.2267 - val_accuracy: 0.9158\n",
      "Epoch 38/100\n",
      "187/187 [==============================] - 33s 176ms/step - loss: 0.2418 - accuracy: 0.9127 - val_loss: 0.2353 - val_accuracy: 0.9180\n",
      "Epoch 39/100\n",
      "187/187 [==============================] - 33s 175ms/step - loss: 0.2375 - accuracy: 0.9154 - val_loss: 0.2234 - val_accuracy: 0.9199\n",
      "Epoch 40/100\n",
      "187/187 [==============================] - 33s 176ms/step - loss: 0.2311 - accuracy: 0.9151 - val_loss: 0.2182 - val_accuracy: 0.9203\n",
      "Epoch 41/100\n",
      "187/187 [==============================] - 33s 176ms/step - loss: 0.2291 - accuracy: 0.9171 - val_loss: 0.2782 - val_accuracy: 0.8997\n",
      "Epoch 42/100\n",
      "187/187 [==============================] - 34s 179ms/step - loss: 0.2285 - accuracy: 0.9163 - val_loss: 0.2262 - val_accuracy: 0.9200\n",
      "Epoch 43/100\n",
      "187/187 [==============================] - 33s 176ms/step - loss: 0.2276 - accuracy: 0.9179 - val_loss: 0.2203 - val_accuracy: 0.9212\n",
      "Epoch 44/100\n",
      "187/187 [==============================] - 33s 175ms/step - loss: 0.2328 - accuracy: 0.9150 - val_loss: 0.2334 - val_accuracy: 0.9162\n",
      "Epoch 45/100\n",
      "187/187 [==============================] - 33s 175ms/step - loss: 0.2314 - accuracy: 0.9172 - val_loss: 0.2271 - val_accuracy: 0.9166\n",
      "Epoch 46/100\n",
      "187/187 [==============================] - 33s 177ms/step - loss: 0.2268 - accuracy: 0.9183 - val_loss: 0.2209 - val_accuracy: 0.9215\n",
      "Epoch 47/100\n",
      "187/187 [==============================] - 33s 176ms/step - loss: 0.2197 - accuracy: 0.9190 - val_loss: 0.2258 - val_accuracy: 0.9176\n",
      "Epoch 48/100\n",
      "187/187 [==============================] - 33s 176ms/step - loss: 0.2178 - accuracy: 0.9227 - val_loss: 0.2150 - val_accuracy: 0.9209\n",
      "Epoch 49/100\n",
      "187/187 [==============================] - 33s 175ms/step - loss: 0.2228 - accuracy: 0.9191 - val_loss: 0.2123 - val_accuracy: 0.9234\n",
      "Epoch 50/100\n",
      "187/187 [==============================] - 33s 176ms/step - loss: 0.2216 - accuracy: 0.9211 - val_loss: 0.2219 - val_accuracy: 0.9186\n",
      "Epoch 51/100\n",
      "187/187 [==============================] - 33s 176ms/step - loss: 0.2183 - accuracy: 0.9201 - val_loss: 0.2156 - val_accuracy: 0.9228\n",
      "Epoch 52/100\n",
      "187/187 [==============================] - 33s 176ms/step - loss: 0.2201 - accuracy: 0.9195 - val_loss: 0.2186 - val_accuracy: 0.9198\n",
      "Epoch 53/100\n",
      "187/187 [==============================] - 33s 175ms/step - loss: 0.2208 - accuracy: 0.9205 - val_loss: 0.2084 - val_accuracy: 0.9264\n",
      "Epoch 54/100\n",
      "187/187 [==============================] - 33s 176ms/step - loss: 0.2149 - accuracy: 0.9201 - val_loss: 0.2202 - val_accuracy: 0.9201\n",
      "Epoch 55/100\n",
      "187/187 [==============================] - 33s 177ms/step - loss: 0.2144 - accuracy: 0.9253 - val_loss: 0.2216 - val_accuracy: 0.9194\n",
      "Epoch 56/100\n",
      "187/187 [==============================] - 33s 174ms/step - loss: 0.2168 - accuracy: 0.9220 - val_loss: 0.2113 - val_accuracy: 0.9236\n"
     ]
    },
    {
     "name": "stdout",
     "output_type": "stream",
     "text": [
      "Epoch 57/100\n",
      "187/187 [==============================] - 34s 181ms/step - loss: 0.2198 - accuracy: 0.9218 - val_loss: 0.2105 - val_accuracy: 0.9265\n",
      "Epoch 58/100\n",
      "187/187 [==============================] - 33s 177ms/step - loss: 0.2098 - accuracy: 0.9237 - val_loss: 0.2298 - val_accuracy: 0.9176\n",
      "Epoch 59/100\n",
      "187/187 [==============================] - 33s 176ms/step - loss: 0.2099 - accuracy: 0.9243 - val_loss: 0.2103 - val_accuracy: 0.9253\n",
      "Epoch 60/100\n",
      "187/187 [==============================] - 33s 176ms/step - loss: 0.2062 - accuracy: 0.9231 - val_loss: 0.2139 - val_accuracy: 0.9238\n",
      "Epoch 61/100\n",
      "187/187 [==============================] - 34s 179ms/step - loss: 0.2075 - accuracy: 0.9248 - val_loss: 0.2124 - val_accuracy: 0.9246\n",
      "Epoch 62/100\n",
      "187/187 [==============================] - 34s 179ms/step - loss: 0.2039 - accuracy: 0.9251 - val_loss: 0.2155 - val_accuracy: 0.9233\n",
      "Epoch 63/100\n",
      "187/187 [==============================] - 33s 175ms/step - loss: 0.2042 - accuracy: 0.9263 - val_loss: 0.2272 - val_accuracy: 0.9215\n",
      "Epoch 64/100\n",
      "187/187 [==============================] - 33s 178ms/step - loss: 0.2045 - accuracy: 0.9249 - val_loss: 0.2068 - val_accuracy: 0.9280\n",
      "Epoch 65/100\n",
      "187/187 [==============================] - 33s 177ms/step - loss: 0.2054 - accuracy: 0.9249 - val_loss: 0.2093 - val_accuracy: 0.9249\n",
      "Epoch 66/100\n",
      "187/187 [==============================] - 34s 181ms/step - loss: 0.2038 - accuracy: 0.9249 - val_loss: 0.2017 - val_accuracy: 0.9289\n",
      "Epoch 67/100\n",
      "187/187 [==============================] - 33s 178ms/step - loss: 0.2042 - accuracy: 0.9246 - val_loss: 0.2019 - val_accuracy: 0.9296\n",
      "Epoch 68/100\n",
      "187/187 [==============================] - 34s 182ms/step - loss: 0.2013 - accuracy: 0.9263 - val_loss: 0.2192 - val_accuracy: 0.9215\n",
      "Epoch 69/100\n",
      "187/187 [==============================] - 33s 178ms/step - loss: 0.2041 - accuracy: 0.9247 - val_loss: 0.2092 - val_accuracy: 0.9230\n",
      "Epoch 70/100\n",
      "187/187 [==============================] - 38s 201ms/step - loss: 0.2047 - accuracy: 0.9260 - val_loss: 0.2132 - val_accuracy: 0.9239\n",
      "Epoch 71/100\n",
      "187/187 [==============================] - 34s 182ms/step - loss: 0.2041 - accuracy: 0.9265 - val_loss: 0.2142 - val_accuracy: 0.9231\n",
      "Epoch 72/100\n",
      "187/187 [==============================] - 33s 175ms/step - loss: 0.1973 - accuracy: 0.9274 - val_loss: 0.2206 - val_accuracy: 0.9207\n",
      "Epoch 73/100\n",
      "187/187 [==============================] - 33s 174ms/step - loss: 0.1936 - accuracy: 0.9300 - val_loss: 0.2150 - val_accuracy: 0.9229\n",
      "Epoch 74/100\n",
      "187/187 [==============================] - 33s 174ms/step - loss: 0.1983 - accuracy: 0.9286 - val_loss: 0.2175 - val_accuracy: 0.9244\n",
      "Epoch 75/100\n",
      "187/187 [==============================] - 33s 174ms/step - loss: 0.1948 - accuracy: 0.9296 - val_loss: 0.2007 - val_accuracy: 0.9277\n",
      "Epoch 76/100\n",
      "187/187 [==============================] - 33s 175ms/step - loss: 0.1927 - accuracy: 0.9279 - val_loss: 0.2063 - val_accuracy: 0.9280\n",
      "Epoch 77/100\n",
      "187/187 [==============================] - 33s 174ms/step - loss: 0.1942 - accuracy: 0.9314 - val_loss: 0.2012 - val_accuracy: 0.9284\n",
      "Epoch 78/100\n",
      "187/187 [==============================] - 33s 174ms/step - loss: 0.1980 - accuracy: 0.9278 - val_loss: 0.2040 - val_accuracy: 0.9264\n",
      "Epoch 79/100\n",
      "187/187 [==============================] - 33s 177ms/step - loss: 0.1945 - accuracy: 0.9287 - val_loss: 0.2000 - val_accuracy: 0.9315\n",
      "Epoch 80/100\n",
      "187/187 [==============================] - 33s 174ms/step - loss: 0.1927 - accuracy: 0.9317 - val_loss: 0.2073 - val_accuracy: 0.9261\n",
      "Epoch 81/100\n",
      "187/187 [==============================] - 33s 173ms/step - loss: 0.1905 - accuracy: 0.9311 - val_loss: 0.1995 - val_accuracy: 0.9291\n",
      "Epoch 82/100\n",
      "187/187 [==============================] - 33s 175ms/step - loss: 0.1870 - accuracy: 0.9330 - val_loss: 0.2205 - val_accuracy: 0.9213\n",
      "Epoch 83/100\n",
      "187/187 [==============================] - 33s 177ms/step - loss: 0.1907 - accuracy: 0.9314 - val_loss: 0.2135 - val_accuracy: 0.9236\n",
      "Epoch 84/100\n",
      "187/187 [==============================] - 33s 177ms/step - loss: 0.1934 - accuracy: 0.9285 - val_loss: 0.1992 - val_accuracy: 0.9267\n",
      "Epoch 85/100\n",
      "187/187 [==============================] - 34s 181ms/step - loss: 0.1845 - accuracy: 0.9328 - val_loss: 0.1984 - val_accuracy: 0.9295\n",
      "Epoch 86/100\n",
      "187/187 [==============================] - 34s 181ms/step - loss: 0.1884 - accuracy: 0.9316 - val_loss: 0.2059 - val_accuracy: 0.9291\n",
      "Epoch 87/100\n",
      "187/187 [==============================] - 34s 181ms/step - loss: 0.1840 - accuracy: 0.9320 - val_loss: 0.2101 - val_accuracy: 0.9267\n",
      "Epoch 88/100\n",
      "187/187 [==============================] - 33s 176ms/step - loss: 0.1882 - accuracy: 0.9312 - val_loss: 0.1993 - val_accuracy: 0.9292\n",
      "Epoch 89/100\n",
      "187/187 [==============================] - 33s 175ms/step - loss: 0.1892 - accuracy: 0.9304 - val_loss: 0.1977 - val_accuracy: 0.9308\n",
      "Epoch 90/100\n",
      "187/187 [==============================] - 33s 175ms/step - loss: 0.1801 - accuracy: 0.9344 - val_loss: 0.2008 - val_accuracy: 0.9312\n",
      "Epoch 91/100\n",
      "187/187 [==============================] - 33s 176ms/step - loss: 0.1888 - accuracy: 0.9317 - val_loss: 0.2004 - val_accuracy: 0.9298\n",
      "Epoch 92/100\n",
      "187/187 [==============================] - 33s 175ms/step - loss: 0.1858 - accuracy: 0.9319 - val_loss: 0.1887 - val_accuracy: 0.9329\n",
      "Epoch 93/100\n",
      "187/187 [==============================] - 33s 178ms/step - loss: 0.1860 - accuracy: 0.9326 - val_loss: 0.1916 - val_accuracy: 0.9316\n",
      "Epoch 94/100\n",
      "187/187 [==============================] - 34s 182ms/step - loss: 0.1814 - accuracy: 0.9346 - val_loss: 0.1977 - val_accuracy: 0.9317\n",
      "Epoch 95/100\n",
      "187/187 [==============================] - 34s 182ms/step - loss: 0.1853 - accuracy: 0.9311 - val_loss: 0.2048 - val_accuracy: 0.9291\n",
      "Epoch 96/100\n",
      "187/187 [==============================] - 35s 186ms/step - loss: 0.1803 - accuracy: 0.9345 - val_loss: 0.1999 - val_accuracy: 0.9289\n",
      "Epoch 97/100\n",
      "187/187 [==============================] - 35s 185ms/step - loss: 0.1762 - accuracy: 0.9371 - val_loss: 0.1985 - val_accuracy: 0.9255\n",
      "Epoch 98/100\n",
      "187/187 [==============================] - 34s 181ms/step - loss: 0.1780 - accuracy: 0.9360 - val_loss: 0.1938 - val_accuracy: 0.9339\n",
      "Epoch 99/100\n",
      "187/187 [==============================] - 34s 182ms/step - loss: 0.1843 - accuracy: 0.9334 - val_loss: 0.2067 - val_accuracy: 0.9264\n",
      "Epoch 100/100\n",
      "187/187 [==============================] - 34s 183ms/step - loss: 0.1784 - accuracy: 0.9346 - val_loss: 0.1978 - val_accuracy: 0.9289\n"
     ]
    }
   ],
   "source": [
    "# for logging purpose\n",
    "MODEL_NAME_2 = \"MNIST-FASHION-2-{}\".format(int(time.time()))\n",
    "\n",
    "#logging of model-2 should look like MNIST-FASHION-2-{timestmaps}\n",
    "tensorboard = TensorBoard(log_dir='logs/{}'.format(MODEL_NAME_2))\n",
    "model2_fit_run = model2.fit_generator(train_batch\n",
    "                                      ,steps_per_epoch=48000//256\n",
    "                                      ,epochs=100\n",
    "                                      ,validation_data=val_batch\n",
    "                                      ,validation_steps=12000//256\n",
    "                                      ,use_multiprocessing=True\n",
    "                                      ,callbacks = [tensorboard])"
   ]
  },
  {
   "cell_type": "code",
   "execution_count": 111,
   "metadata": {},
   "outputs": [
    {
     "name": "stdout",
     "output_type": "stream",
     "text": [
      "313/313 [==============================] - 2s 5ms/step - loss: 0.1821 - accuracy: 0.9355\n",
      "\n",
      "Test accuracy: 0.9355000257492065\n"
     ]
    }
   ],
   "source": [
    "test_loss, test_acc = model2.evaluate(test_images, test_labels)\n",
    "print('\\nTest accuracy: {}'.format(test_acc))"
   ]
  },
  {
   "cell_type": "markdown",
   "metadata": {},
   "source": [
    "# The metric used for evaluation is accuracy:\n",
    "\n",
    "Model-1 has 92.58% accuracy on test set and 92.77% on validation set.\n",
    "\n",
    "Model-2 has 93.55% accuracy on test set and 92.89% on validation set.\n",
    "\n",
    "This basically means adding an extra layer of CNN along with Data augmentation and batch normalization only helped\n",
    "0.97% improve on the test accuracy.\n",
    "\n",
    "Hence, we choose Model-2 among the two simple Models. Now using Model-2 for serving using TF-serving.\n"
   ]
  },
  {
   "cell_type": "markdown",
   "metadata": {
    "id": "AwGPItyphqXT"
   },
   "source": [
    "## Save your model\n",
    "\n",
    "To load our trained model into TensorFlow Serving we first need to save it in [SavedModel](https://www.tensorflow.org/versions/r1.15/api_docs/python/tf/saved_model) format.  This will create a protobuf file in a well-defined directory hierarchy, and will include a version number.  [TensorFlow Serving](https://www.tensorflow.org/tfx/guide/serving) allows us to select which version of a model, or \"servable\" we want to use when we make inference requests.  Each version will be exported to a different sub-directory under the given path."
   ]
  },
  {
   "cell_type": "code",
   "execution_count": 113,
   "metadata": {
    "execution": {
     "iopub.execute_input": "2021-12-04T10:29:53.292994Z",
     "iopub.status.busy": "2021-12-04T10:29:53.291931Z",
     "iopub.status.idle": "2021-12-04T10:29:54.009674Z",
     "shell.execute_reply": "2021-12-04T10:29:54.010084Z"
    },
    "id": "0w5Rq8SsgWE6"
   },
   "outputs": [
    {
     "name": "stdout",
     "output_type": "stream",
     "text": [
      "export_path = saved_models/1\n",
      "\n",
      "INFO:tensorflow:Assets written to: saved_models/1/assets\n",
      "\n",
      "Saved model:\n",
      "total 592\n",
      "drwxr-xr-x 2 srauniy domainusers   4096 Dec 19 22:45 assets\n",
      "-rw-rw-r-- 1 srauniy domainusers      0 Dec 20 13:42 keras_metadata.pb\n",
      "-rw-rw-r-- 1 srauniy domainusers 596221 Dec 20 13:42 saved_model.pb\n",
      "drwxr-xr-x 2 srauniy domainusers   4096 Dec 20 13:42 variables\n"
     ]
    }
   ],
   "source": [
    "# Fetch the Keras session and save the model\n",
    "# The signature definition is defined by the input and output tensors,\n",
    "# and stored with the default serving key\n",
    "\n",
    "!mkdir -p saved_models\n",
    "\n",
    "MODEL_DIR = \"saved_models/\"\n",
    "version = 1\n",
    "export_path = os.path.join(MODEL_DIR, str(version))\n",
    "print('export_path = {}\\n'.format(export_path))\n",
    "\n",
    "tf.keras.models.save_model(\n",
    "    model2,\n",
    "    export_path,\n",
    "    overwrite=True,\n",
    "    include_optimizer=True,\n",
    "    save_format=None,\n",
    "    signatures=None,\n",
    "    options=None\n",
    ")\n",
    "\n",
    "print('\\nSaved model:')\n",
    "!ls -l {export_path}"
   ]
  },
  {
   "cell_type": "markdown",
   "metadata": {
    "id": "DBgsyhytS6KD"
   },
   "source": [
    "## Serve your model with TensorFlow Serving\n",
    "\n",
    "For the sake of simplicity we are using command line to spin up our serving container. Please go through \n",
    "documentation **README.md** section 2.\n"
   ]
  },
  {
   "cell_type": "markdown",
   "metadata": {
    "id": "vwg1JKaGXWAg"
   },
   "source": [
    "## Make a request to your model in TensorFlow Serving\n",
    "\n",
    "First, let's take a look at a random example from our test data."
   ]
  },
  {
   "cell_type": "code",
   "execution_count": 115,
   "metadata": {
    "execution": {
     "iopub.execute_input": "2021-12-04T10:30:12.289168Z",
     "iopub.status.busy": "2021-12-04T10:30:12.283923Z",
     "iopub.status.idle": "2021-12-04T10:30:12.434291Z",
     "shell.execute_reply": "2021-12-04T10:30:12.434868Z"
    },
    "id": "Luqm_Jyff9iR"
   },
   "outputs": [
    {
     "data": {
      "image/png": "[encoded data removed]",
      "text/plain": [
       "<Figure size 432x288 with 1 Axes>"
      ]
     },
     "metadata": {
      "needs_background": "light"
     },
     "output_type": "display_data"
    }
   ],
   "source": [
    "def show(idx, title):\n",
    "  plt.figure()\n",
    "  plt.imshow(test_images[idx].reshape(28,28))\n",
    "  plt.axis('off')\n",
    "  plt.title('\\n\\n{}'.format(title), fontdict={'size': 16})\n",
    "\n",
    "import random\n",
    "rando = random.randint(0,len(test_images)-1)\n",
    "show(rando, 'An Example Image: {}'.format(class_names[test_labels[rando]]))"
   ]
  },
  {
   "cell_type": "markdown",
   "metadata": {},
   "source": [
    "#####  make a request with curl and let's check the prediction"
   ]
  },
  {
   "cell_type": "code",
   "execution_count": 118,
   "metadata": {},
   "outputs": [
    {
     "name": "stdout",
     "output_type": "stream",
     "text": [
      "{\r\n",
      "    \"predictions\": [[9.35298e-10, 1.94899985e-10, 2.85322765e-09, 7.65899622e-10, 8.67189653e-10, 3.46909e-07, 1.84958282e-09, 3.66329623e-05, 1.10681775e-08, 0.999963045]\r\n",
      "    ]\r\n",
      "}"
     ]
    },
    {
     "data": {
      "image/png": "[encoded data removed]",
      "text/plain": [
       "<Figure size 432x288 with 1 Axes>"
      ]
     },
     "metadata": {
      "needs_background": "light"
     },
     "output_type": "display_data"
    }
   ],
   "source": [
    "!curl -X POST -H 'content-type: application/json' -d \"@image.json\" http://localhost:8605/v1/models/mnist_model:predict\n",
    "predictions = json.loads(json_response.text)['predictions']\n",
    "\n",
    "\n",
    "show(0, 'The model thought this was a {} (class {}), and it was actually a {} (class {})'.format(\n",
    "  class_names[np.argmax(predictions[0])], np.argmax(predictions[0]), class_names[test_labels[0]], test_labels[0]))"
   ]
  },
  {
   "cell_type": "markdown",
   "metadata": {
    "id": "TKnEHeTrbh3L"
   },
   "source": [
    "Now let's create the JSON object for a batch of  five inference requests, and see how well our model recognizes things:"
   ]
  },
  {
   "cell_type": "code",
   "execution_count": 119,
   "metadata": {
    "execution": {
     "iopub.execute_input": "2021-12-04T10:30:12.446455Z",
     "iopub.status.busy": "2021-12-04T10:30:12.445618Z",
     "iopub.status.idle": "2021-12-04T10:30:12.448813Z",
     "shell.execute_reply": "2021-12-04T10:30:12.449285Z"
    },
    "id": "2dsD7KQG1m-R"
   },
   "outputs": [
    {
     "name": "stdout",
     "output_type": "stream",
     "text": [
      "Data: {\"signature_name\": \"serving_default\", \"instances\": ...  [0.0], [0.0], [0.0], [0.0], [0.0], [0.0], [0.0]]]]}\n"
     ]
    }
   ],
   "source": [
    "import json\n",
    "data = json.dumps({\"signature_name\": \"serving_default\", \"instances\": test_images[0:5].tolist()})\n",
    "#print(data)\n",
    "print('Data: {} ... {}'.format(data[:50], data[len(data)-52:]))"
   ]
  },
  {
   "cell_type": "markdown",
   "metadata": {
    "id": "ReQd4QESIwXN"
   },
   "source": [
    "### Make REST requests"
   ]
  },
  {
   "cell_type": "markdown",
   "metadata": {
    "id": "iT3J-lHrhOYQ"
   },
   "source": [
    "\n",
    "\n",
    "We'll send a predict request as a POST to our server's REST endpoint at http://localhost:8605/v1/models/mnist_model:predict, and pass it five examples.  "
   ]
  },
  {
   "cell_type": "code",
   "execution_count": 121,
   "metadata": {
    "id": "vGvFyuIzW6n6"
   },
   "outputs": [
    {
     "data": {
      "image/png": "[encoded data removed]",
      "text/plain": [
       "<Figure size 432x288 with 1 Axes>"
      ]
     },
     "metadata": {
      "needs_background": "light"
     },
     "output_type": "display_data"
    },
    {
     "data": {
      "image/png": "[encoded data removed]",
      "text/plain": [
       "<Figure size 432x288 with 1 Axes>"
      ]
     },
     "metadata": {
      "needs_background": "light"
     },
     "output_type": "display_data"
    },
    {
     "data": {
      "image/png": "[encoded data removed]",
      "text/plain": [
       "<Figure size 432x288 with 1 Axes>"
      ]
     },
     "metadata": {
      "needs_background": "light"
     },
     "output_type": "display_data"
    },
    {
     "data": {
      "image/png": "[encoded data removed]",
      "text/plain": [
       "<Figure size 432x288 with 1 Axes>"
      ]
     },
     "metadata": {
      "needs_background": "light"
     },
     "output_type": "display_data"
    },
    {
     "data": {
      "image/png": "[encoded data removed]",
      "text/plain": [
       "<Figure size 432x288 with 1 Axes>"
      ]
     },
     "metadata": {
      "needs_background": "light"
     },
     "output_type": "display_data"
    }
   ],
   "source": [
    "!pip install -q requests\n",
    "\n",
    "import requests\n",
    "headers = {\"content-type\": \"application/json\"}\n",
    "json_response = requests.post('http://localhost:8605/v1/models/mnist_model:predict', data=data, headers=headers)\n",
    "predictions = json.loads(json_response.text)['predictions']\n",
    "\n",
    "for i in range(0,5):\n",
    "    show(i, 'The model thought this was a {} (class {}), and it was actually a {} (class {})'.format(\n",
    "      class_names[np.argmax(predictions[i])], np.argmax(predictions[i]), class_names[test_labels[i]], test_labels[i]))"
   ]
  }
 ],
 "metadata": {
  "accelerator": "GPU",
  "colab": {
   "collapsed_sections": [],
   "name": "rest_simple.ipynb",
   "provenance": [],
   "toc_visible": true
  },
  "kernelspec": {
   "display_name": "Python 3",
   "language": "python",
   "name": "python3"
  },
  "language_info": {
   "codemirror_mode": {
    "name": "ipython",
    "version": 3
   },
   "file_extension": ".py",
   "mimetype": "text/x-python",
   "name": "python",
   "nbconvert_exporter": "python",
   "pygments_lexer": "ipython3",
   "version": "3.6.9"
  }
 },
 "nbformat": 4,
 "nbformat_minor": 1
}
